{
 "cells": [
  {
   "cell_type": "code",
   "execution_count": 1,
   "metadata": {},
   "outputs": [],
   "source": [
    "import tabula as tb\n",
    "import os\n",
    "import glob\n",
    "import pandas as pd"
   ]
  },
  {
   "cell_type": "code",
   "execution_count": 7,
   "metadata": {},
   "outputs": [],
   "source": [
    "###input file folder path\n",
    "\n",
    "os.chdir('C:\\\\Users\\\\GrumpyStatistician\\\\Desktop\\\\New')"
   ]
  },
  {
   "cell_type": "code",
   "execution_count": 9,
   "metadata": {},
   "outputs": [],
   "source": [
    "####Create a empty dataframe\n",
    "df = []\n",
    "##loop through files with .pdf extension \n",
    "for pdf in glob.glob(\"*.pdf\"):\n",
    "###write to Excel\n",
    "    writer = pd.ExcelWriter('Tabula_Data.xlsx', engine='xlsxwriter')\n",
    "###read tabular data from pdf\n",
    "    data = tb.read_pdf(pdf, pandas_options={'header': None})\n",
    "###Append data to dataframe\n",
    "    df.append(data)\n",
    "#stack the dfs\n",
    "df = pd.concat(df, axis=0)\n",
    "##df.rename({0:\"Data\",1:\"Total\"} , axis='columns')\n",
    "# Select columns to group by/sum on\n",
    "details= df.groupby([0])[1].sum()\n",
    "##create dataframe from dataframe object\n",
    "final=pd.DataFrame(details).reset_index()\n",
    "final=final.rename({0:\"Data Collected\",1:\"Activity Total\"} , axis='columns')\n",
    "final.to_excel(writer, sheet_name='Data')\n",
    "writer.save()\n"
   ]
  },
  {
   "cell_type": "code",
   "execution_count": 43,
   "metadata": {},
   "outputs": [],
   "source": []
  },
  {
   "cell_type": "code",
   "execution_count": null,
   "metadata": {},
   "outputs": [],
   "source": []
  }
 ],
 "metadata": {
  "kernelspec": {
   "display_name": "Python 3",
   "language": "python",
   "name": "python3"
  },
  "language_info": {
   "codemirror_mode": {
    "name": "ipython",
    "version": 3
   },
   "file_extension": ".py",
   "mimetype": "text/x-python",
   "name": "python",
   "nbconvert_exporter": "python",
   "pygments_lexer": "ipython3",
   "version": "3.6.5"
  }
 },
 "nbformat": 4,
 "nbformat_minor": 2
}
